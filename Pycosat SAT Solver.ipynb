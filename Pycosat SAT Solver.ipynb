{
 "cells": [
  {
   "cell_type": "code",
   "execution_count": 24,
   "metadata": {
    "scrolled": true
   },
   "outputs": [
    {
     "name": "stdout",
     "output_type": "stream",
     "text": [
      "[-1, 2, 3, 4]\n",
      "--- 0.0020842552185058594 seconds ---\n"
     ]
    }
   ],
   "source": [
    "import pycosat\n",
    "import time\n",
    "start_time = time.time()\n",
    "timestr = time.strftime(\"%Y%m%d-%H%M%S\")\n",
    "f=open(\"out1-20191228-195001.txt\", \"r\")\n",
    "filename = \"pycosat_\" + timestr + \".txt\"\n",
    "f1=open(filename, \"w\")\n",
    "f.readline()\n",
    "f.readline()\n",
    "\n",
    "while True:\n",
    "    cnf = []\n",
    "    line = f.readline()\n",
    "    if (not(line)):\n",
    "        break\n",
    "    a = line\n",
    "    list1 = []\n",
    "    list2 = []\n",
    "    lenght = len(a)\n",
    "\n",
    "    for i in range (0, lenght,2):\n",
    "        list1.append(a[i])\n",
    "        list2.append(a[i-1])\n",
    "\n",
    "    listlenght = (len(list1)-1)\n",
    "    for i in range (listlenght): \n",
    "        if list2[i+1] == '0':\n",
    "            list1[i] = '-' + list1[i]\n",
    "        if list2[i+1] == '1':\n",
    "            list1[i] = list1[i]\n",
    "\n",
    "    for i in range(0, len(list1)): \n",
    "        if list1[i] != '\\n':\n",
    "            list1[i] = int(list1[i]) \n",
    "\n",
    "    for i in range(0, listlenght, 3):\n",
    "        cnf.append([list1[i], list1[i+1], list1[i+2]])\n",
    "        \n",
    "    f1.write(\"Clause: \")\n",
    "    f1.write(line)\n",
    "    f1.write(\"Solution:\")\n",
    "    out = pycosat.solve(cnf)\n",
    "    f1.write((\"\").join(map(str, out)))\n",
    "    f1.write('\\n')\n",
    "    print(out)\n",
    "print(\"--- %s seconds ---\" % (time.time() - start_time))"
   ]
  },
  {
   "cell_type": "code",
   "execution_count": 63,
   "metadata": {
    "scrolled": false
   },
   "outputs": [
    {
     "data": {
      "text/plain": [
       "37"
      ]
     },
     "execution_count": 63,
     "metadata": {},
     "output_type": "execute_result"
    }
   ],
   "source": [
    "import pycosat\n",
    "import time\n",
    "start_time = time.time()\n",
    "timestr = time.strftime(\"%Y%m%d-%H%M%S\")\n",
    "f=open(\"out1-20191229-154839.txt\", \"r\")\n",
    "filename = \"pycosat_\" + timestr + \".txt\"\n",
    "f1=open(filename, \"w\")\n",
    "f.readline()\n",
    "f.readline()\n",
    "\n",
    "while True:\n",
    "    cnf = []\n",
    "    line = f.readline()\n",
    "    if (not(line)):\n",
    "        break\n",
    "    a = line\n",
    "    list1 = []\n",
    "    list2 = []\n",
    "    lenght = len(a)\n",
    "\n",
    "    for i in range (0, lenght,2):\n",
    "        list1.append(a[i])\n",
    "        list2.append(a[i-1])\n",
    "\n",
    "    listlenght = (len(list1)-1)\n",
    "    for i in range (listlenght): \n",
    "        if list2[i+1] == '0':\n",
    "            list1[i] = '-' + list1[i]\n",
    "        if list2[i+1] == '1':\n",
    "            list1[i] = list1[i]\n",
    "\n",
    "    for i in range(0, len(list1)): \n",
    "        if list1[i] != '\\n':\n",
    "            list1[i] = int(list1[i]) \n",
    "\n",
    "    for i in range(0, listlenght, 3):\n",
    "        cnf.append([list1[i], list1[i+1], list1[i+2]])\n",
    "        \n",
    "    f1.write(\"Clause: \")\n",
    "    f1.write(line)\n",
    "    f1.write(\"Solutions:\")\n",
    "    f1.write('\\n')\n",
    "    for out in pycosat.itersolve(cnf):\n",
    "        f1.write((\"\").join(map(str, out)))\n",
    "        f1.write('\\n')\n",
    "        print(out)\n",
    "    f1.write('\\n')\n",
    "f1.write(\"--- %s seconds ---\" % (time.time() - start_time))"
   ]
  },
  {
   "cell_type": "code",
   "execution_count": 40,
   "metadata": {},
   "outputs": [
    {
     "name": "stdout",
     "output_type": "stream",
     "text": [
      "[-1, -2, 3, -4, -5, -6]\n",
      "[-1, -2, 3, -4, -5, 6]\n",
      "[-1, -2, 3, -4, 5, -6]\n",
      "[-1, -2, 3, -4, 5, 6]\n",
      "[-1, -2, 3, 4, 5, -6]\n",
      "[-1, -2, 3, 4, 5, 6]\n",
      "[-1, -2, 3, 4, -5, -6]\n",
      "[-1, -2, 3, 4, -5, 6]\n",
      "[-1, -2, -3, 4, -5, -6]\n",
      "[-1, -2, -3, 4, -5, 6]\n",
      "[-1, -2, -3, 4, 5, -6]\n",
      "[-1, -2, -3, 4, 5, 6]\n",
      "[-1, -2, -3, -4, 5, -6]\n",
      "[-1, -2, -3, -4, 5, 6]\n",
      "[-1, -2, -3, -4, -5, -6]\n",
      "[-1, -2, -3, -4, -5, 6]\n",
      "[-1, 2, -3, -4, -5, -6]\n",
      "[-1, 2, -3, -4, -5, 6]\n",
      "[-1, 2, -3, -4, 5, -6]\n",
      "[-1, 2, -3, -4, 5, 6]\n",
      "[-1, 2, -3, 4, 5, -6]\n",
      "[-1, 2, -3, 4, 5, 6]\n",
      "[-1, 2, -3, 4, -5, -6]\n",
      "[-1, 2, -3, 4, -5, 6]\n",
      "[-1, 2, 3, 4, -5, -6]\n",
      "[-1, 2, 3, 4, -5, 6]\n",
      "[-1, 2, 3, 4, 5, -6]\n",
      "[-1, 2, 3, 4, 5, 6]\n",
      "[-1, 2, 3, -4, 5, -6]\n",
      "[-1, 2, 3, -4, 5, 6]\n",
      "[-1, 2, 3, -4, -5, -6]\n",
      "[-1, 2, 3, -4, -5, 6]\n",
      "[1, 2, 3, -4, -5, -6]\n",
      "[1, 2, 3, -4, 5, -6]\n",
      "[1, -2, 3, -4, -5, -6]\n",
      "[1, -2, 3, -4, -5, 6]\n",
      "[1, -2, 3, -4, 5, -6]\n",
      "[1, -2, 3, -4, 5, 6]\n",
      "[1, -2, 3, 4, 5, 6]\n",
      "[1, -2, 3, 4, -5, 6]\n",
      "[1, -2, -3, 4, 5, 6]\n",
      "[1, -2, -3, 4, -5, 6]\n"
     ]
    }
   ],
   "source": [
    "cnf = [[-1, -2, -6], [-1, 6, -4], [-1, 3, 4]]\n",
    "for sol in pycosat.itersolve(cnf):\n",
    "    print(sol)"
   ]
  },
  {
   "cell_type": "code",
   "execution_count": null,
   "metadata": {},
   "outputs": [],
   "source": [
    "102031 103140 102141"
   ]
  }
 ],
 "metadata": {
  "kernelspec": {
   "display_name": "Python 3",
   "language": "python",
   "name": "python3"
  },
  "language_info": {
   "codemirror_mode": {
    "name": "ipython",
    "version": 3
   },
   "file_extension": ".py",
   "mimetype": "text/x-python",
   "name": "python",
   "nbconvert_exporter": "python",
   "pygments_lexer": "ipython3",
   "version": "3.7.3"
  }
 },
 "nbformat": 4,
 "nbformat_minor": 2
}
