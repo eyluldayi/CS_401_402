{
 "cells": [
  {
   "cell_type": "code",
   "execution_count": 4,
   "metadata": {},
   "outputs": [],
   "source": [
    "#Generalize the algorithm?\n",
    "def TwoBitCounter(qreg,myCircuit):\n",
    "    myCircuit.cx(qreg[1], qreg[0])\n",
    "    myCircuit.x(qreg[0])\n",
    "    myCircuit.cx(qreg[0], qreg[1])\n",
    "    myCircuit.x(qreg[0])\n",
    "    myCircuit.cx(qreg[0], qreg[1])\n",
    "    "
   ]
  },
  {
   "cell_type": "code",
   "execution_count": 6,
   "metadata": {},
   "outputs": [
    {
     "name": "stdout",
     "output_type": "stream",
     "text": [
      "01 is observed 8000 times\n",
      "10 is observed 8000 times\n",
      "11 is observed 8000 times\n"
     ]
    }
   ],
   "source": [
    "from qiskit import QuantumRegister, ClassicalRegister, QuantumCircuit, Aer, BasicAer, IBMQ, execute\n",
    "n = 2\n",
    "qreg = QuantumRegister(n)\n",
    "creg = ClassicalRegister(n)\n",
    "myCircuit = QuantumCircuit(qreg,creg)\n",
    "\n",
    "for i in range (2**n-1):\n",
    "    TwoBitCounter(qreg, myCircuit)\n",
    "    myCircuit.measure(qreg,creg)\n",
    "\n",
    "    job = execute(myCircuit, backend = Aer.get_backend('qasm_simulator'), shots=8000)\n",
    "    counts = job.result().get_counts(myCircuit)\n",
    "\n",
    "    # print the reverse of the outcome\n",
    "    for outcome in counts:\n",
    "        reverse_outcome = ''\n",
    "        for i in outcome:\n",
    "            reverse_outcome = i + reverse_outcome\n",
    "        print(reverse_outcome, \"is observed\", counts[outcome], \"times\")\n",
    "    \n",
    "    myCircuit.draw(output='mpl')\n",
    "\n"
   ]
  },
  {
   "cell_type": "code",
   "execution_count": null,
   "metadata": {},
   "outputs": [],
   "source": []
  }
 ],
 "metadata": {
  "kernelspec": {
   "display_name": "Python 3",
   "language": "python",
   "name": "python3"
  },
  "language_info": {
   "codemirror_mode": {
    "name": "ipython",
    "version": 3
   },
   "file_extension": ".py",
   "mimetype": "text/x-python",
   "name": "python",
   "nbconvert_exporter": "python",
   "pygments_lexer": "ipython3",
   "version": "3.7.3"
  }
 },
 "nbformat": 4,
 "nbformat_minor": 4
}
