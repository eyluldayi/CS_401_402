{
 "cells": [
  {
   "cell_type": "code",
   "execution_count": 4,
   "metadata": {},
   "outputs": [],
   "source": [
    "#Generalize the algorithm? We can implement a for loop which implements mct's until n is 3\n",
    "def ThreeBitCounter(qreg,myCircuit):\n",
    "    myCircuit.ccx(qreg[2], qreg[1], qreg[0])\n",
    "    myCircuit.cx(qreg[2], qreg[1])\n",
    "    myCircuit.x(qreg[1])\n",
    "    myCircuit.cx(qreg[1], qreg[2])\n",
    "    myCircuit.x(qreg[1])\n",
    "    myCircuit.cx(qreg[1], qreg[2])\n",
    "    "
   ]
  },
  {
   "cell_type": "code",
   "execution_count": 5,
   "metadata": {},
   "outputs": [
    {
     "name": "stdout",
     "output_type": "stream",
     "text": [
      "001 is observed 10 times\n",
      "010 is observed 10 times\n",
      "011 is observed 10 times\n",
      "100 is observed 10 times\n",
      "101 is observed 10 times\n",
      "110 is observed 10 times\n",
      "111 is observed 10 times\n"
     ]
    }
   ],
   "source": [
    "from qiskit import QuantumRegister, ClassicalRegister, QuantumCircuit, Aer, BasicAer, IBMQ, execute\n",
    "n = 3\n",
    "qreg = QuantumRegister(n)\n",
    "creg = ClassicalRegister(n)\n",
    "myCircuit = QuantumCircuit(qreg,creg)\n",
    "\n",
    "for i in range (2**n-1):\n",
    "    #for j in range (n, 3, -1):\n",
    "        \n",
    "        \n",
    "    ThreeBitCounter(qreg, myCircuit)\n",
    "    myCircuit.measure(qreg,creg)\n",
    "\n",
    "    job = execute(myCircuit, backend = Aer.get_backend('qasm_simulator'), shots=10)\n",
    "    counts = job.result().get_counts(myCircuit)\n",
    "\n",
    "    # print the reverse of the outcome\n",
    "    for outcome in counts:\n",
    "        reverse_outcome = ''\n",
    "        for i in outcome:\n",
    "            reverse_outcome = i + reverse_outcome\n",
    "        print(reverse_outcome, \"is observed\", counts[outcome], \"times\")\n",
    "    \n",
    "    myCircuit.draw(output='mpl')\n",
    "\n"
   ]
  },
  {
   "cell_type": "code",
   "execution_count": null,
   "metadata": {},
   "outputs": [],
   "source": []
  }
 ],
 "metadata": {
  "kernelspec": {
   "display_name": "Python 3",
   "language": "python",
   "name": "python3"
  },
  "language_info": {
   "codemirror_mode": {
    "name": "ipython",
    "version": 3
   },
   "file_extension": ".py",
   "mimetype": "text/x-python",
   "name": "python",
   "nbconvert_exporter": "python",
   "pygments_lexer": "ipython3",
   "version": "3.7.3"
  }
 },
 "nbformat": 4,
 "nbformat_minor": 4
}
