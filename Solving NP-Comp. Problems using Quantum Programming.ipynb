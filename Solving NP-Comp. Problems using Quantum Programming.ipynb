{
 "cells": [
  {
   "cell_type": "markdown",
   "metadata": {},
   "source": [
    "\n",
    "<h1 align=\"center\" style=\"color: #cd7f32;\"> Solving NP-Complete Problems using Quantum Programming </h1>\n"
   ]
  },
  {
   "cell_type": "markdown",
   "metadata": {},
   "source": [
    "<h1> cnx </h1>"
   ]
  },
  {
   "cell_type": "code",
   "execution_count": 91,
   "metadata": {},
   "outputs": [],
   "source": [
    "def cnx(n,mycircuit,qreg):\n",
    "    a = 0\n",
    "    for i in range(1,int(n/2)):\n",
    "        \n",
    "        mycircuit.ccx(qreg[2*i],qreg[(2*i)-1],qreg[n+a])\n",
    "        a+=1\n",
    "    mycircuit.ccx(qreg[n+a-1],qreg[n+a-2],qreg[0])\n",
    "    a=0;\n",
    "    for i in range(1,int(n/2)):\n",
    "        \n",
    "        mycircuit.ccx(qreg[2*i], qreg[(2*i)-1], qreg[n+a])\n",
    "        a+=1"
   ]
  },
  {
   "cell_type": "code",
   "execution_count": 92,
   "metadata": {},
   "outputs": [
    {
     "name": "stdout",
     "output_type": "stream",
     "text": [
      "our input is 00000 :  0000000 is observed 100 times\n",
      "our input is 00001 :  0000001 is observed 100 times\n",
      "our input is 00010 :  0000010 is observed 100 times\n",
      "our input is 00011 :  0000011 is observed 100 times\n",
      "our input is 00100 :  0000100 is observed 100 times\n",
      "our input is 00101 :  0000101 is observed 100 times\n",
      "our input is 00110 :  0000110 is observed 100 times\n",
      "our input is 00111 :  0000111 is observed 100 times\n",
      "our input is 01000 :  0001000 is observed 100 times\n",
      "our input is 01001 :  0001001 is observed 100 times\n",
      "our input is 01010 :  0001010 is observed 100 times\n",
      "our input is 01011 :  0001011 is observed 100 times\n",
      "our input is 01100 :  0001100 is observed 100 times\n",
      "our input is 01101 :  0001101 is observed 100 times\n",
      "our input is 01110 :  0001110 is observed 100 times\n",
      "our input is 01111 :  0001111 is observed 100 times\n",
      "our input is 10000 :  0010000 is observed 100 times\n",
      "our input is 10001 :  0010001 is observed 100 times\n",
      "our input is 10010 :  0010010 is observed 100 times\n",
      "our input is 10011 :  0010011 is observed 100 times\n",
      "our input is 10100 :  0010100 is observed 100 times\n",
      "our input is 10101 :  0010101 is observed 100 times\n",
      "our input is 10110 :  0010111 is observed 100 times\n",
      "our input is 10111 :  0010110 is observed 100 times\n",
      "our input is 11000 :  0011000 is observed 100 times\n",
      "our input is 11001 :  0011001 is observed 100 times\n",
      "our input is 11010 :  0011010 is observed 100 times\n",
      "our input is 11011 :  0011011 is observed 100 times\n",
      "our input is 11100 :  0011100 is observed 100 times\n",
      "our input is 11101 :  0011101 is observed 100 times\n",
      "our input is 11110 :  0011111 is observed 100 times\n",
      "our input is 11111 :  0011110 is observed 100 times\n"
     ]
    }
   ],
   "source": [
    "# draw the circuit\n",
    "from qiskit import QuantumRegister, ClassicalRegister, QuantumCircuit, execute, Aer\n",
    "\n",
    "all_inputs=['00000','00001','00010','00011','00100','00101','00110','00111','01000','01001','01010','01011',\n",
    "            '01100','01101','01110','01111','10000','10001','10010','10011','10100','10101','10110','10111',\n",
    "            '11000','11001','11010','11011','11100','11101','11110','11111']\n",
    "\n",
    "for input in all_inputs:\n",
    "    qreg =  QuantumRegister(7) # quantum register with 5 qubits\n",
    "    creg = ClassicalRegister(7) # classical register with 5 bits\n",
    "    mycircuit = QuantumCircuit(qreg,creg) # quantum circuit with quantum and classical registers\n",
    "    \n",
    "    #initialize the inputs\n",
    "    if input[0]=='1':\n",
    "        mycircuit.x(qreg[4]) # set the state of the first qubit to |1>\n",
    "    if input[1]=='1':\n",
    "        mycircuit.x(qreg[3]) # set the state of the second qubit to |1>\n",
    "    if input[2]=='1':\n",
    "        mycircuit.x(qreg[2]) # set the state of the first qubit to |1>\n",
    "    if input[3]=='1':\n",
    "        mycircuit.x(qreg[1]) # set the state of the second qubit to |1>\n",
    "    if input[4]=='1':\n",
    "        mycircuit.x(qreg[0]) # set the state of the third qubit to |1>\n",
    "\n",
    "    cnx(5,mycircuit,qreg) \n",
    "    \n",
    "    # measure the qubits\n",
    "    mycircuit.measure(qreg,creg)\n",
    "    \n",
    "    # execute the circuit 100 times in the local simulator\n",
    "    job = execute(mycircuit,Aer.get_backend('qasm_simulator'),shots=100)\n",
    "    counts = job.result().get_counts(mycircuit)\n",
    "    for outcome in counts: # print the reverse of the outcomes\n",
    "        print(\"our input is\",input,\": \",outcome,\"is observed\",counts[outcome],\"times\")\n",
    "\n"
   ]
  },
  {
   "cell_type": "code",
   "execution_count": null,
   "metadata": {},
   "outputs": [],
   "source": []
  }
 ],
 "metadata": {
  "kernelspec": {
   "display_name": "Python 3",
   "language": "python",
   "name": "python3"
  },
  "language_info": {
   "codemirror_mode": {
    "name": "ipython",
    "version": 3
   },
   "file_extension": ".py",
   "mimetype": "text/x-python",
   "name": "python",
   "nbconvert_exporter": "python",
   "pygments_lexer": "ipython3",
   "version": "3.7.3"
  }
 },
 "nbformat": 4,
 "nbformat_minor": 2
}
