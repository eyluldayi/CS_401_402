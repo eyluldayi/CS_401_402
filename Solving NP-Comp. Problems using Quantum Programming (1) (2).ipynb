{
 "cells": [
  {
   "cell_type": "markdown",
   "metadata": {},
   "source": [
    "\n",
    "<h1 align=\"center\" style=\"color: #cd7f32;\"> Solving NP-Complete Problems using Quantum Programming </h1>\n"
   ]
  },
  {
   "cell_type": "markdown",
   "metadata": {},
   "source": [
    "<h1> cnx </h1>"
   ]
  },
  {
   "cell_type": "code",
   "execution_count": 1,
   "metadata": {},
   "outputs": [],
   "source": [
    "def cnx(n,mycircuit,qreg):\n",
    "    a = 0\n",
    "    for i in range(1,int(n/2)):\n",
    "        \n",
    "        mycircuit.ccx(qreg[2*i],qreg[(2*i)-1],qreg[n+a])\n",
    "        a+=1\n",
    "    mycircuit.ccx(qreg[n+a-1],qreg[n+a-2],qreg[0])\n",
    "    a=0;\n",
    "    for i in range(1,int(n/2)):\n",
    "        \n",
    "        mycircuit.ccx(qreg[2*i], qreg[(2*i)-1], qreg[n+a])\n",
    "        a+=1"
   ]
  },
  {
   "cell_type": "markdown",
   "metadata": {},
   "source": [
    "<h1> 3SAT Function </h1>"
   ]
  },
  {
   "cell_type": "code",
   "execution_count": 2,
   "metadata": {},
   "outputs": [
    {
     "name": "stderr",
     "output_type": "stream",
     "text": [
      "'[]1.jpeg' is not recognized as an internal or external command,\n",
      "operable program or batch file.\n"
     ]
    }
   ],
   "source": [
    "![]1.jpeg"
   ]
  },
  {
   "cell_type": "markdown",
   "metadata": {},
   "source": [
    "![](0.png)\n",
    "![](1.png)"
   ]
  },
  {
   "cell_type": "markdown",
   "metadata": {},
   "source": [
    "<h1> TRIPLE OR GATE </h1>"
   ]
  },
  {
   "cell_type": "code",
   "execution_count": 3,
   "metadata": {},
   "outputs": [
    {
     "ename": "SyntaxError",
     "evalue": "invalid syntax (<ipython-input-3-ab7c371a4217>, line 5)",
     "output_type": "error",
     "traceback": [
      "\u001b[1;36m  File \u001b[1;32m\"<ipython-input-3-ab7c371a4217>\"\u001b[1;36m, line \u001b[1;32m5\u001b[0m\n\u001b[1;33m    mycircuit.mct([qreg[i],qreg[j],qreg[k]],qreg[])\u001b[0m\n\u001b[1;37m                                                 ^\u001b[0m\n\u001b[1;31mSyntaxError\u001b[0m\u001b[1;31m:\u001b[0m invalid syntax\n"
     ]
    }
   ],
   "source": [
    "def tripleOrGate(mycircuit,qreg,i,j,k,list):\n",
    "    mycircuit.x(qreg[i])\n",
    "    mycircuit.x(qreg[j])\n",
    "    mycircuit.x(qreg[k])\n",
    "    mycircuit.mct([qreg[i],qreg[j],qreg[k]],qreg[])\n",
    "    mycircuit.x(qreg[0])"
   ]
  },
  {
   "cell_type": "markdown",
   "metadata": {},
   "source": [
    "<h1> OR GATE </h1>\n",
    "Less gates and seems more efficient."
   ]
  },
  {
   "cell_type": "code",
   "execution_count": 5,
   "metadata": {},
   "outputs": [],
   "source": [
    "def orGate (mycircuit, qreg):\n",
    "    mycircuit.x(qreg[0])\n",
    "    mycircuit.x(qreg[1])\n",
    "    \n",
    "    mycircuit.ccx(qreg[0],qreg[1],qreg[2])\n",
    "    mycircuit.x(qreg[2])"
   ]
  },
  {
   "cell_type": "markdown",
   "metadata": {},
   "source": [
    "<h1> ALTERNATIVE OR GATE ((a & a)' & (b & b)')' = a || b </h1>\n",
    "This one has too many gates therefore it's more complex."
   ]
  },
  {
   "cell_type": "code",
   "execution_count": 6,
   "metadata": {},
   "outputs": [],
   "source": [
    "def altOrGate (mycircuit, qreg):\n",
    "    mycircuit.ccx(qreg[0], qreg[0], qreg[2]) #(qreg[0] & qreg[0] --> qreg[2])\n",
    "    mycircuit.ccx(qreg[1], qreg[1], qreg[3]) #(qreg[2] & qreg[1] --> qreg[3])\n",
    "    mycircuit.x(qreg[2]) # (qreg[2])'\n",
    "    mycircuit.x(qreg[3]) # (qreg[3])'\n",
    "    mycircuit.ccx(qreg[2], qreg[3], qreg[4]) # (qreg[2] & qreg[3] --> qreg[4])\n",
    "    mycircuit.x(qreg[4]) # (qreg[4])'"
   ]
  },
  {
   "cell_type": "markdown",
   "metadata": {},
   "source": [
    "<h1> AND GATE </h1>"
   ]
  },
  {
   "cell_type": "code",
   "execution_count": 7,
   "metadata": {},
   "outputs": [],
   "source": [
    "def andGate (mycircuit, qreg):\n",
    "    mycircuit.ccx(qreg[0], qreg[1], qreg[2])"
   ]
  },
  {
   "cell_type": "markdown",
   "metadata": {},
   "source": [
    "<h1> Inversion </h1>"
   ]
  },
  {
   "cell_type": "code",
   "execution_count": 3,
   "metadata": {},
   "outputs": [],
   "source": [
    "#parametreli hale getirilecek\n",
    "def inversion(circuit,quantum_reg,n):\n",
    "    \n",
    "    \n",
    "    #step 1\n",
    "    for i in range(n):\n",
    "        circuit.h(quantum_reg[i])\n",
    "    \n",
    "    #step 2\n",
    " \n",
    "    for i in range(n):\n",
    "        circuit.x(quantum_reg[i])\n",
    "\n",
    "    #step 3\n",
    "    #[0...n-1] control list, extra qubit list\n",
    "    controlQubits=[]\n",
    "    ancillaQubits=[]\n",
    "    \n",
    "    for i in range(n):\n",
    "        controlQubits.append(qreg[i])\n",
    "    \n",
    "    \n",
    "    for i in range(n+1,2*n):\n",
    "        ancillaQubits.append(qreg[i])\n",
    "    circuit.mct(controlQubits, qreg[n], ancillaQubits)\n",
    "        \n",
    "\n",
    "    #step 4\n",
    "\n",
    "    for i in range(n):\n",
    "        circuit.x(quantum_reg[i])\n",
    "    #step 5\n",
    "   \n",
    "    for i in range(n):\n",
    "        circuit.h(quantum_reg[i])\n",
    "\n",
    "    #step 6\n",
    "    circuit.x(quantum_reg[n])"
   ]
  },
  {
   "cell_type": "markdown",
   "metadata": {},
   "source": [
    "<h1> RANDOM CNF GENERATOR </h1>"
   ]
  },
  {
   "cell_type": "markdown",
   "metadata": {},
   "source": [
    "<b> Issues: </b>\n",
    "1) Can we create a quantum register without initializing it? Because we need the method to initiliaze it over and over.\n",
    "    - We need a different circuit for every variable number.\n",
    "2) How can write the NOT of a qubit next to it?\n",
    "    - First check if the clause has a negative value. NOT the negatives and OR all of it.\n",
    "3) A qubit and its not cannot be in the same clause, how?\n",
    "\n",
    "<b> #TODO </b>\n",
    "1) Try writing it without qubits.\n",
    "2) <b> #of Qubits Needed --> </b> n + k + 1 for ORs (same one for all) + for mct (+k ?)\n",
    "3) Triple OR Arguments: (q1, q2, q3, target, extra)\n",
    "4) Write it to a file.\n",
    "5) <b> Helpful --> </b> https://www.cs.ubc.ca/~hoos/SATLIB/benchm.html  "
   ]
  },
  {
   "cell_type": "code",
   "execution_count": 5,
   "metadata": {},
   "outputs": [],
   "source": [
    "#m --> number of clauses\n",
    "#k --> number of literals\n",
    "\n",
    "import random, re\n",
    "cnfControl = [[]]\n",
    "\n",
    "def create(x,y,z):\n",
    "    r = (lambda : random.randint(0,1))\n",
    "    a = [(x,r()),(y,r()),(z,r())]\n",
    "    b = [a[1],a[2],a[0]]\n",
    "    c = [a[2],a[0],a[1]]\n",
    "    d = [a[1],a[0],a[2]]\n",
    "    e = [a[2],a[1],a[0]]\n",
    "    f = [a[0],a[2],a[1]]\n",
    "    \n",
    "    cnfControl.append([b])\n",
    "    cnfControl.append([c])\n",
    "    cnfControl.append([d])\n",
    "    cnfControl.append([e])\n",
    "    cnfControl.append([f])\n",
    "    return [a]\n",
    "\n",
    "def unique(l,k):\n",
    "        t = random.randint(1,k)\n",
    "        while(t in l):\n",
    "            t = random.randint(1,k)\n",
    "        return t\n",
    "    \n",
    "def createXYZ(k):\n",
    "    x = unique([],k)\n",
    "    y = unique([x],k)\n",
    "    z = unique([x, y],k)  \n",
    "    return create(x,y,z)\n",
    "    \n",
    "def tcnfgen(m,k,horn=1):\n",
    "    cnf = []\n",
    "    cnfControl[:] = [[]]\n",
    "    if horn:\n",
    "        cnf.append([(x,1), (y,0),(z,0)])\n",
    "    else:\n",
    "        p=0\n",
    "        while(p < m):\n",
    "            z=createXYZ(k)\n",
    "            if (z not in cnfControl):\n",
    "                cnf.append(z)\n",
    "                cnfControl.append(z)\n",
    "                p=p+1\n",
    "                    \n",
    "            \n",
    "    listAsStr = (\"\").join(map(str, cnf))\n",
    "    nonDecStrippedList = re.findall(r'[\\d.]+', listAsStr)\n",
    "    nonDecListAsStr = (\"\").join(map(str, nonDecStrippedList))\n",
    "    return nonDecListAsStr"
   ]
  },
  {
   "cell_type": "code",
   "execution_count": 6,
   "metadata": {
    "scrolled": false
   },
   "outputs": [],
   "source": [
    "f=open(\"tcnfgeninputs.txt\", \"r\")\n",
    "outString= \"out\"\n",
    "outNumber= 1\n",
    "#for line in f:\n",
    "while True:\n",
    "    line = f.readline()\n",
    "    if (not(line)):\n",
    "        break\n",
    "    outString= (\"out\"+str(outNumber)+\".txt\")\n",
    "    file = open(outString, \"w\")\n",
    "    nonDecStrippedList = re.findall(r'[\\d.]+', line) #makes list\n",
    "    #file = open(\"out1.txt\", \"w\")\n",
    "    a=int(nonDecStrippedList[0])\n",
    "    b=int(nonDecStrippedList[1])\n",
    "    m=int(nonDecStrippedList[2])\n",
    "    file.write(str(a)+\"\\n\"+str(b)+\"\\n\")\n",
    "    for i in range(m):\n",
    "        file.write(tcnfgen(a,b,0))\n",
    "        file.write(\"\\n\")\n",
    "    file.write(\"\\n\")\n",
    "    outNumber+=1\n",
    "file.close()"
   ]
  },
  {
   "cell_type": "code",
   "execution_count": null,
   "metadata": {},
   "outputs": [],
   "source": []
  },
  {
   "cell_type": "code",
   "execution_count": 10,
   "metadata": {
    "scrolled": true
   },
   "outputs": [
    {
     "name": "stderr",
     "output_type": "stream",
     "text": [
      "C:\\Users\\90537\\Anaconda3\\lib\\site-packages\\qiskit\\providers\\ibmq\\credentials\\configrc.py:130: UserWarning: Credentials already present. Set overwrite=True to overwrite.\n",
      "  warnings.warn('Credentials already present. '\n",
      "C:\\Users\\90537\\Anaconda3\\lib\\site-packages\\qiskit\\providers\\ibmq\\ibmqfactory.py:181: UserWarning: Credentials are already in use. The existing account in the session will be replaced.\n",
      "  warnings.warn('Credentials are already in use. The existing '\n"
     ]
    },
    {
     "name": "stdout",
     "output_type": "stream",
     "text": [
      "\n",
      "301120\n",
      "\n"
     ]
    },
    {
     "ename": "JobError",
     "evalue": "'Invalid job state. The job should be DONE but it is JobStatus.ERROR'",
     "output_type": "error",
     "traceback": [
      "\u001b[1;31m---------------------------------------------------------------------------\u001b[0m",
      "\u001b[1;31mJobError\u001b[0m                                  Traceback (most recent call last)",
      "\u001b[1;32m<ipython-input-10-dc2f3311b9cd>\u001b[0m in \u001b[0;36m<module>\u001b[1;34m\u001b[0m\n\u001b[0;32m     53\u001b[0m     \u001b[1;31m#job = execute(mycircuit, Aer.get_backend('qasm_simulator'), shots=10000)\u001b[0m\u001b[1;33m\u001b[0m\u001b[1;33m\u001b[0m\u001b[1;33m\u001b[0m\u001b[0m\n\u001b[0;32m     54\u001b[0m     \u001b[0mjob\u001b[0m \u001b[1;33m=\u001b[0m \u001b[0mexecute\u001b[0m\u001b[1;33m(\u001b[0m\u001b[0mmycircuit\u001b[0m\u001b[1;33m,\u001b[0m \u001b[0mbackend\u001b[0m\u001b[1;33m=\u001b[0m \u001b[0msimulator_backend\u001b[0m\u001b[1;33m,\u001b[0m \u001b[0mshots\u001b[0m\u001b[1;33m=\u001b[0m\u001b[1;36m10000\u001b[0m\u001b[1;33m)\u001b[0m\u001b[1;33m\u001b[0m\u001b[1;33m\u001b[0m\u001b[0m\n\u001b[1;32m---> 55\u001b[1;33m     \u001b[0mcounts\u001b[0m \u001b[1;33m=\u001b[0m \u001b[0mjob\u001b[0m\u001b[1;33m.\u001b[0m\u001b[0mresult\u001b[0m\u001b[1;33m(\u001b[0m\u001b[1;33m)\u001b[0m\u001b[1;33m.\u001b[0m\u001b[0mget_counts\u001b[0m\u001b[1;33m(\u001b[0m\u001b[0mmycircuit\u001b[0m\u001b[1;33m)\u001b[0m\u001b[1;33m\u001b[0m\u001b[1;33m\u001b[0m\u001b[0m\n\u001b[0m\u001b[0;32m     56\u001b[0m \u001b[1;33m\u001b[0m\u001b[0m\n\u001b[0;32m     57\u001b[0m     \u001b[1;31m# print the reverse of the outcome\u001b[0m\u001b[1;33m\u001b[0m\u001b[1;33m\u001b[0m\u001b[1;33m\u001b[0m\u001b[0m\n",
      "\u001b[1;32m~\\Anaconda3\\lib\\site-packages\\qiskit\\providers\\ibmq\\job\\ibmqjob.py\u001b[0m in \u001b[0;36mresult\u001b[1;34m(self, timeout, wait)\u001b[0m\n\u001b[0;32m    252\u001b[0m         \u001b[1;32mif\u001b[0m \u001b[0mstatus\u001b[0m \u001b[1;32mis\u001b[0m \u001b[1;32mnot\u001b[0m \u001b[0mJobStatus\u001b[0m\u001b[1;33m.\u001b[0m\u001b[0mDONE\u001b[0m\u001b[1;33m:\u001b[0m\u001b[1;33m\u001b[0m\u001b[1;33m\u001b[0m\u001b[0m\n\u001b[0;32m    253\u001b[0m             raise JobError('Invalid job state. The job should be DONE but '\n\u001b[1;32m--> 254\u001b[1;33m                            'it is {}'.format(str(status)))\n\u001b[0m\u001b[0;32m    255\u001b[0m \u001b[1;33m\u001b[0m\u001b[0m\n\u001b[0;32m    256\u001b[0m         \u001b[1;32mif\u001b[0m \u001b[1;32mnot\u001b[0m \u001b[0mself\u001b[0m\u001b[1;33m.\u001b[0m\u001b[0m_result\u001b[0m\u001b[1;33m:\u001b[0m\u001b[1;33m\u001b[0m\u001b[1;33m\u001b[0m\u001b[0m\n",
      "\u001b[1;31mJobError\u001b[0m: 'Invalid job state. The job should be DONE but it is JobStatus.ERROR'"
     ]
    }
   ],
   "source": [
    "from qiskit import QuantumRegister, ClassicalRegister, QuantumCircuit, Aer, BasicAer, IBMQ, execute\n",
    "from qiskit.tools.visualization import plot_histogram\n",
    "from qiskit.aqua.circuits.gates import mct\n",
    "from qiskit.aqua.circuits.gates import mct\n",
    "IBMQ.save_account('eb0335ee933e1829a16830af00b78e1c9d761c22901d83029d14e022e1737c6990a6401b00c466998b9bbdf72b54f9efd9284406a374974e35859951dd80c2be')\n",
    "IBMQ.load_account()\n",
    "provider=IBMQ.get_provider()\n",
    "simulator_backend = provider.get_backend('ibmq_16_melbourne')\n",
    "\n",
    "#parametreli hale getirilecek\n",
    "\n",
    "ff=open(\"out1.txt\", \"r\")\n",
    "k=int(ff.readline())\n",
    "n=int(ff.readline())\n",
    "\n",
    "maxN= max(n+2*k+2,2*n+1)\n",
    "while(True):\n",
    "    \n",
    "    nextLine= (ff.readline())\n",
    "    if (not(nextLine)):\n",
    "        break\n",
    "        \n",
    "    print()\n",
    "    print(nextLine)\n",
    "    qreg = QuantumRegister(maxN)  # quantum register with 5 qubits\n",
    "    creg = ClassicalRegister(maxN)  # classical register with 5 bits\n",
    "    mycircuit = QuantumCircuit(\n",
    "        qreg, creg)  # quantum circuit with quantum and classical registers\n",
    "\n",
    "    for i in range(n):\n",
    "        mycircuit.h(qreg[i])\n",
    "\n",
    "        #set ancilla\n",
    "    mycircuit.x(qreg[n])\n",
    "    mycircuit.h(qreg[n])\n",
    "\n",
    "    iterations = 2\n",
    "\n",
    "    #Grover's iterations.\n",
    "    for i in range(iterations):\n",
    "        #query\n",
    "        blackBox(mycircuit, qreg,n,k,nextLine)\n",
    "        mycircuit.barrier()\n",
    "        #inversion\n",
    "        inversion(mycircuit, qreg,n)\n",
    "        mycircuit.barrier()\n",
    "\n",
    "    #set ancilla back\n",
    "    mycircuit.h(qreg[n])\n",
    "    mycircuit.x(qreg[n])\n",
    "    mycircuit.measure(qreg, creg)\n",
    "\n",
    "    #job = execute(mycircuit, Aer.get_backend('qasm_simulator'), shots=10000)\n",
    "    job = execute(mycircuit, backend= simulator_backend, shots=10000)\n",
    "    counts = job.result().get_counts(mycircuit)\n",
    "\n",
    "    # print the reverse of the outcome\n",
    "    for outcome in counts:\n",
    "        reverse_outcome = ''\n",
    "        for i in outcome:\n",
    "            reverse_outcome = i + reverse_outcome\n",
    "        print(reverse_outcome, \"is observed\", counts[outcome], \"times\")\n",
    "\n",
    "    mycircuit.draw(output='mpl')"
   ]
  },
  {
   "cell_type": "code",
   "execution_count": null,
   "metadata": {},
   "outputs": [],
   "source": []
  },
  {
   "cell_type": "code",
   "execution_count": 1,
   "metadata": {},
   "outputs": [],
   "source": [
    "def blackBox (mycircuit,qreg,n, k, nextLine):\n",
    "    ancillaList=[]\n",
    "    clauselength=6 #6 sabit olmamalı\n",
    "    for i in range(n+1, n+k+1):\n",
    "        ancillaList.append(qreg[i])\n",
    "        \n",
    "    ############ her clause için\n",
    "    for j in range(k):\n",
    "        \n",
    "        ########### not ###########3\n",
    "        initElement = clauselength*j\n",
    "        for i in range(3):#3 değil n\n",
    "            if (int(nextLine[initElement+2*i+1])==0):\n",
    "                mycircuit.x(qreg[int(nextLine[initElement+2*i])-1])\n",
    "               # print(int(nextLine[initElement+2*i])-1)\n",
    "            \n",
    "        \n",
    "        \n",
    "        ##################### or ########################\n",
    "        orList=[]\n",
    "        for i in range(n): #0 1 2 olmamalı\n",
    "            mycircuit.x(qreg[i])\n",
    "            orList.append(qreg[i])\n",
    "       \n",
    "        mycircuit.mct(orList,ancillaList[j],[qreg[n+2*k],qreg[n+2*k+1]])\n",
    "        mycircuit.x(ancillaList[j])\n",
    "\n",
    "        for i in range(n): #0 1 2 olmamalı\n",
    "            mycircuit.x(qreg[i])\n",
    "            \n",
    "        ################  not geri al #################\n",
    "        for i in range(3):\n",
    "            if (int(nextLine[initElement+2*i+1])==0):\n",
    "                mycircuit.x(qreg[int(nextLine[initElement+2*i])-1])\n",
    "                \n",
    "                \n",
    "    ############# or ları notla ################\n",
    "    ancillaception=[]\n",
    "\n",
    "    for i in range(n+k+1, n+2*k):\n",
    "        ancillaception.append(qreg[i])\n",
    "    mycircuit.mct(ancillaList,qreg[n],ancillaception)\n",
    "    mycircuit.x(qreg[n])\n",
    "    \n",
    "    \n",
    "    ############# ancila listi geri al\n",
    "    \n",
    "     ############ her clause için\n",
    "    for j in range(k):\n",
    "        \n",
    "        ########### not ###########3\n",
    "        initElement = clauselength*j\n",
    "        for i in range(3):#3 değil n\n",
    "            if (int(nextLine[initElement+2*i+1])==0):\n",
    "                mycircuit.x(qreg[int(nextLine[initElement+2*i])-1])\n",
    "               # print(int(nextLine[initElement+2*i])-1)\n",
    "       \n",
    "        \n",
    "        ##################### or ########################\n",
    "        orList=[]\n",
    "        for i in range(n): #0 1 2 olmamalı\n",
    "            mycircuit.x(qreg[i])\n",
    "            orList.append(qreg[i])\n",
    "       \n",
    "        mycircuit.x(ancillaList[j])\n",
    "        mycircuit.mct(orList,ancillaList[j],[qreg[n+2*k],qreg[n+2*k+1]])\n",
    "       \n",
    "\n",
    "        for i in range(n): #0 1 2 olmamalı\n",
    "            mycircuit.x(qreg[i])\n",
    "            \n",
    "        ################  not geri al #################\n",
    "        for i in range(3):\n",
    "            if (int(nextLine[initElement+2*i+1])==0):\n",
    "                mycircuit.x(qreg[int(nextLine[initElement+2*i])-1])\n",
    "    \n",
    "    \n",
    "    "
   ]
  },
  {
   "cell_type": "code",
   "execution_count": null,
   "metadata": {},
   "outputs": [],
   "source": []
  },
  {
   "cell_type": "code",
   "execution_count": 0,
   "metadata": {},
   "outputs": [],
   "source": [
    "\n",
    "    \n",
    "\n"
   ]
  },
  {
   "cell_type": "code",
   "execution_count": 0,
   "metadata": {},
   "outputs": [],
   "source": []
  }
 ],
 "metadata": {
  "kernelspec": {
   "display_name": "Python 3",
   "language": "python",
   "name": "python3"
  },
  "language_info": {
   "codemirror_mode": {
    "name": "ipython",
    "version": 3
   },
   "file_extension": ".py",
   "mimetype": "text/x-python",
   "name": "python",
   "nbconvert_exporter": "python",
   "pygments_lexer": "ipython3",
   "version": "3.7.3"
  }
 },
 "nbformat": 4,
 "nbformat_minor": 1
}
